{
 "cells": [
  {
   "cell_type": "code",
   "execution_count": 1,
   "metadata": {
    "collapsed": true
   },
   "outputs": [],
   "source": [
    "import os\n",
    "import json\n",
    "import datetime as dt\n",
    "import numpy as np\n",
    "\n",
    "from geo_utils import ChipExtents\n",
    "from subset_trends import SubsetTrends\n",
    "from json_utils import JSONReader\n",
    "from analyze_pyccd_training_data import CheckTrainingData\n",
    "\n"
   ]
  },
  {
   "cell_type": "code",
   "execution_count": 16,
   "metadata": {
    "collapsed": true
   },
   "outputs": [],
   "source": [
    "in_file = r\"Z:\\ancillary\\training\\trends.tif\"\n",
    "out_file = r\"C:\\Users\\dzelenak\\Workspace\\LCMAP_Eval\\ARD_h05v01\\training\\test\"\n",
    "\n",
    "H = 6\n",
    "V = 3\n",
    "JSON_DIR = r'Z:\\sites\\washington\\pyccd-results\\H06V03\\2017.08.18\\json'\n",
    "# JSON_INV = [os.path.join(JSON_DIR, f) for f in os.listdir(JSON_DIR)]"
   ]
  },
  {
   "cell_type": "code",
   "execution_count": 5,
   "metadata": {
    "collapsed": true
   },
   "outputs": [],
   "source": [
    "h5v1 = ChipExtents(H, V)\n",
    "# trends = SubsetTrends(in_file, out_file, h5v2.CHIP_EXTENTS[257])\n",
    "# h5v1 = CheckTrainingData(h=H, v=V, in_trends=in_file, out_dir=out_file, json_dir=JSON_DIR)"
   ]
  },
  {
   "cell_type": "code",
   "execution_count": 10,
   "metadata": {
    "collapsed": true
   },
   "outputs": [],
   "source": [
    "h4v1 = ChipExtents(H, V)"
   ]
  },
  {
   "cell_type": "code",
   "execution_count": 17,
   "metadata": {
    "collapsed": true
   },
   "outputs": [],
   "source": [
    "h6v3 = ChipExtents(H, V)"
   ]
  },
  {
   "cell_type": "code",
   "execution_count": 18,
   "metadata": {},
   "outputs": [
    {
     "data": {
      "text/plain": [
       "GeoExtent(x_min=-1665585, y_max=2864805, x_max=-1515585, y_min=2714805)"
      ]
     },
     "execution_count": 18,
     "metadata": {},
     "output_type": "execute_result"
    }
   ],
   "source": [
    "h6v3.TILE_EXTENT\n"
   ]
  },
  {
   "cell_type": "code",
   "execution_count": null,
   "metadata": {},
   "outputs": [],
   "source": [
    "# h5v3.CHIP_EXTENTS[1717]\n",
    "# h5v3.analyze_chips()"
   ]
  },
  {
   "cell_type": "code",
   "execution_count": 8,
   "metadata": {},
   "outputs": [
    {
     "data": {
      "text/plain": [
       "GeoExtent(x_min=-1815585, y_max=3164805, x_max=-1665585, y_min=3014805)"
      ]
     },
     "execution_count": 8,
     "metadata": {},
     "output_type": "execute_result"
    }
   ],
   "source": [
    "h5v1.CHIP_EXTENTS\n",
    "h5v1.TILE_EXTENT"
   ]
  },
  {
   "cell_type": "code",
   "execution_count": 11,
   "metadata": {},
   "outputs": [
    {
     "data": {
      "text/plain": [
       "GeoExtent(x_min=-1965585, y_max=3164805, x_max=-1815585, y_min=3014805)"
      ]
     },
     "execution_count": 11,
     "metadata": {},
     "output_type": "execute_result"
    }
   ],
   "source": [
    "h4v1.TILE_EXTENT"
   ]
  },
  {
   "cell_type": "code",
   "execution_count": 13,
   "metadata": {
    "collapsed": true
   },
   "outputs": [],
   "source": [
    "h4v2 = ChipExtents(H, V)"
   ]
  },
  {
   "cell_type": "code",
   "execution_count": 14,
   "metadata": {},
   "outputs": [
    {
     "data": {
      "text/plain": [
       "GeoExtent(x_min=-1965585, y_max=3014805, x_max=-1815585, y_min=2864805)"
      ]
     },
     "execution_count": 14,
     "metadata": {},
     "output_type": "execute_result"
    }
   ],
   "source": [
    "h4v2.TILE_EXTENT"
   ]
  },
  {
   "cell_type": "code",
   "execution_count": 6,
   "metadata": {},
   "outputs": [],
   "source": [
    "TILE_EXTENT, PIXEL_AFFINE = h5v1.geospatial_hv(H, V)"
   ]
  },
  {
   "cell_type": "code",
   "execution_count": null,
   "metadata": {
    "collapsed": true
   },
   "outputs": [],
   "source": [
    "jfile = r\"C:\\Users\\dzelenak\\Workspace\\LCMAP_Eval\\ARD_h03v01\\H03V01_-2067585_3062805.json\"\n",
    "\n",
    "jdata = open(jfile, 'r')\n",
    "j = json.load(jdata)"
   ]
  },
  {
   "cell_type": "code",
   "execution_count": null,
   "metadata": {
    "collapsed": true
   },
   "outputs": [],
   "source": [
    "chip = 1717\n",
    "\n",
    "if os.path.exists(out_file): os.remove(out_file)\n",
    "\n",
    "trends = SubsetTrends(in_file, out_file, h3v1.CHIP_EXTENTS[chip])\n",
    "\n",
    "trends_mask = trends.test_data(trends.data)  \n",
    "\n",
    "if np.any(trends_mask):\n",
    "\n",
    "    pixel_coords = h3v1.get_pixel_coords(h3v1.CHIP_EXTENTS[chip])\n",
    "              \n",
    "\n"
   ]
  },
  {
   "cell_type": "code",
   "execution_count": null,
   "metadata": {
    "collapsed": true
   },
   "outputs": [],
   "source": [
    "\"\"\"\n",
    "h5v2_dict_csv = r\"c:\\users\\dzelenak\\Workspace\\Projects\\Trends_Classifier_Analysis\\h5v2_dict.csv\"\n",
    "\n",
    "with open(h5v2_dict_csv, 'w') as csv_out:\n",
    "    writer = csv.writer(csv_out)\n",
    "    for key, value in h5v2_chip_dict.items():\n",
    "        writer.writerow([key, value])\n",
    "\"\"\""
   ]
  },
  {
   "cell_type": "code",
   "execution_count": null,
   "metadata": {
    "collapsed": true
   },
   "outputs": [],
   "source": [
    "chip_x = np.zeros((100,100))\n",
    "chip_y = np.zeros((100,100))"
   ]
  },
  {
   "cell_type": "code",
   "execution_count": null,
   "metadata": {
    "collapsed": true
   },
   "outputs": [],
   "source": [
    "for i in range(100):\n",
    "    for j in range(100):\n",
    "        chip_x[i,j] = pixel_coords[(i,j)].x\n",
    "        chip_y[i,j] = pixel_coords[(i,j)].y"
   ]
  },
  {
   "cell_type": "code",
   "execution_count": null,
   "metadata": {
    "collapsed": true
   },
   "outputs": [],
   "source": [
    "print(chip_x[35,88])\n",
    "print(chip_y[35,88])\n",
    "print(pixel_coords[(35,88)].x, pixel_coords[(35,88)].y)"
   ]
  },
  {
   "cell_type": "code",
   "execution_count": null,
   "metadata": {
    "collapsed": true
   },
   "outputs": [],
   "source": [
    "trends_mask = trends_mask.flatten()\n",
    "chip_x = chip_x.flatten()\n",
    "chip_y = chip_y.flatten()"
   ]
  },
  {
   "cell_type": "code",
   "execution_count": null,
   "metadata": {
    "collapsed": true
   },
   "outputs": [],
   "source": [
    "x_coords = chip_x[trends_mask]\n",
    "y_coords = chip_y[trends_mask]\n",
    "\n"
   ]
  },
  {
   "cell_type": "code",
   "execution_count": null,
   "metadata": {
    "collapsed": true
   },
   "outputs": [],
   "source": [
    "json_h5v2 = JSONdata(H, V, JSON_DIR)"
   ]
  },
  {
   "cell_type": "code",
   "execution_count": null,
   "metadata": {
    "collapsed": true
   },
   "outputs": [],
   "source": [
    "json_h5v2.json_inv"
   ]
  },
  {
   "cell_type": "code",
   "execution_count": null,
   "metadata": {
    "collapsed": true
   },
   "outputs": [],
   "source": [
    "json_file = json_h5v2.return_json_file(h5v2.CHIP_EXTENTS[chip])\n",
    "print(json_file)"
   ]
  },
  {
   "cell_type": "code",
   "execution_count": null,
   "metadata": {
    "collapsed": true
   },
   "outputs": [],
   "source": [
    "i = 1\n",
    "check_time  = {}\n",
    "for (x,y) in zip(x_coords, y_coords):\n",
    "    \n",
    "    print(\"\\tRetrieving json data for coordinate pair {} of {}\".format(i, len(x_coords)))\n",
    "    \n",
    "    coord = h5v2.GeoCoordinate(x=x, y=y)\n",
    "    \n",
    "    json_data = json_h5v2.return_json_data(json_file, coord)\n",
    "    \n",
    "    check_time[(x,y)] = json_h5v2.check_time_segment(json_data)\n",
    "    \n",
    "    i += 1\n",
    "    "
   ]
  },
  {
   "cell_type": "code",
   "execution_count": null,
   "metadata": {
    "collapsed": true
   },
   "outputs": [],
   "source": [
    "len(check_time)"
   ]
  },
  {
   "cell_type": "code",
   "execution_count": null,
   "metadata": {
    "collapsed": true
   },
   "outputs": [],
   "source": [
    "\"\"\"\n",
    "h5v2_pixels_csv = r\"c:\\users\\dzelenak\\Workspace\\Projects\\Trends_Classifier_Analysis\\h5v2_pixels_dict.csv\"\n",
    "with open(h5v2_pixels_csv, 'w') as csv_out:\n",
    "    writer = csv.writer(csv_out, delimiter=':')\n",
    "    for key, value in pixels_dict.items():\n",
    "        writer.writerow([key, value])\n",
    "\"\"\""
   ]
  },
  {
   "cell_type": "code",
   "execution_count": null,
   "metadata": {
    "collapsed": true
   },
   "outputs": [],
   "source": [
    "json_file = return_json_file(h5v2.CHIP_EXTENTS[chip])\n",
    "\n",
    "return_json_data(json_file, p))\n",
    "    "
   ]
  },
  {
   "cell_type": "code",
   "execution_count": null,
   "metadata": {
    "collapsed": true
   },
   "outputs": [],
   "source": [
    "json_pixels[0]"
   ]
  },
  {
   "cell_type": "code",
   "execution_count": null,
   "metadata": {
    "collapsed": true
   },
   "outputs": [],
   "source": [
    "\"\"\"\n",
    "jfile = r\"Z:\\sites\\washington\\pyccd-results\\H05V02\\2017.06.20\\json\\H05V02_-1794585_2999805.json\"\n",
    "jdata = open(jfile, 'r')\n",
    "j = json.load(jdata)\n",
    "\"\"\""
   ]
  },
  {
   "cell_type": "code",
   "execution_count": null,
   "metadata": {
    "collapsed": true
   },
   "outputs": [],
   "source": [
    "def find_chipcurve(results_chip, coord):\n",
    "    \"\"\"\n",
    "    Find the results for the specified coordinate.\n",
    "    \"\"\"\n",
    "    with open(results_chip, 'r') as f:\n",
    "        results = json.load(f)\n",
    "    \n",
    "    gen = filter(lambda x: coord.x == x['x'] and coord.y == x['y'], results)\n",
    "    \n",
    "    return next(gen, None)"
   ]
  },
  {
   "cell_type": "code",
   "execution_count": null,
   "metadata": {
    "collapsed": true
   },
   "outputs": [],
   "source": [
    "def find_file(file_ls, string):\n",
    "    \"\"\"\n",
    "    Return the first str in a list of strings that contains string.\n",
    "    \"\"\"\n",
    "    gen = filter(lambda x: string in x, file_ls)\n",
    "    return next(gen, None)"
   ]
  },
  {
   "cell_type": "code",
   "execution_count": null,
   "metadata": {
    "collapsed": true
   },
   "outputs": [],
   "source": [
    "def return_json_file(chip_coord):\n",
    "    \n",
    "    return find_file(JSON_INV, 'H{:02d}V{:02d}_{}_{}.json'.format(H, V, chip_coord.x_min, chip_coord.y_max))"
   ]
  },
  {
   "cell_type": "code",
   "execution_count": null,
   "metadata": {
    "collapsed": true
   },
   "outputs": [],
   "source": [
    "def return_json_data(file, pixel_coord):\n",
    "    \n",
    "    result = find_chipcurve(file, pixel_coord)\n",
    "    \n",
    "    if result.get('result_ok') is True:\n",
    "        return json.loads(result['result'])"
   ]
  },
  {
   "cell_type": "code",
   "execution_count": null,
   "metadata": {
    "collapsed": true
   },
   "outputs": [],
   "source": [
    "json_file = return_json_file(chip_ul)\n",
    "print(json_file)"
   ]
  },
  {
   "cell_type": "code",
   "execution_count": null,
   "metadata": {
    "collapsed": true
   },
   "outputs": [],
   "source": [
    "test_pixel = pixel_coords[(0,0)]"
   ]
  },
  {
   "cell_type": "code",
   "execution_count": null,
   "metadata": {
    "collapsed": true
   },
   "outputs": [],
   "source": [
    "results = return_json_data(json_file, test_pixel)\n",
    "result=None"
   ]
  },
  {
   "cell_type": "code",
   "execution_count": null,
   "metadata": {
    "collapsed": true
   },
   "outputs": [],
   "source": [
    "print(type(result))\n",
    "results.keys()"
   ]
  },
  {
   "cell_type": "code",
   "execution_count": null,
   "metadata": {
    "collapsed": true
   },
   "outputs": [],
   "source": [
    "results['change_models']"
   ]
  },
  {
   "cell_type": "code",
   "execution_count": null,
   "metadata": {
    "collapsed": true
   },
   "outputs": [],
   "source": [
    "start_dates = []\n",
    "break_dates = []\n",
    "for num, result in enumerate(results['change_models']):\n",
    "    start_dates.append(dt.datetime.fromordinal(result['start_day']))\n",
    "    break_dates.append(dt.datetime.fromordinal(result['break_day']))\n",
    "    \n",
    "print(start_dates)\n",
    "print(break_dates)"
   ]
  },
  {
   "cell_type": "code",
   "execution_count": null,
   "metadata": {
    "collapsed": true
   },
   "outputs": [],
   "source": [
    "enforce_start = dt.datetime.toordinal(dt.datetime(1999, 12, 31))\n",
    "enforce_end = dt.datetime.toordinal(dt.datetime(2001, 1, 1))"
   ]
  },
  {
   "cell_type": "code",
   "execution_count": null,
   "metadata": {
    "collapsed": true
   },
   "outputs": [],
   "source": [
    "enforce_start"
   ]
  },
  {
   "cell_type": "code",
   "execution_count": null,
   "metadata": {
    "collapsed": true
   },
   "outputs": [],
   "source": [
    "enforce_end"
   ]
  },
  {
   "cell_type": "code",
   "execution_count": null,
   "metadata": {
    "collapsed": true
   },
   "outputs": [],
   "source": [
    "print(dt.datetime.fromordinal(enforce_end))"
   ]
  },
  {
   "cell_type": "code",
   "execution_count": null,
   "metadata": {
    "collapsed": true
   },
   "outputs": [],
   "source": [
    "def get_json(path):\n",
    "    if os.path.exists(path):\n",
    "        with open(path, 'r') as f:\n",
    "            return json.load(f)\n",
    "    else:\n",
    "        return None"
   ]
  },
  {
   "cell_type": "code",
   "execution_count": null,
   "metadata": {
    "collapsed": true
   },
   "outputs": [],
   "source": [
    "def get_jsonchip(horiz, vert, chip_x, chip_y):\n",
    "    path = get_chippath(horiz, vert, chip_x, chip_y)\n",
    "    print(path)\n",
    "\n",
    "    try:\n",
    "        return load_jsondata(get_json(path))\n",
    "    except:\n",
    "        log.debug('Problem with file {}'.format(path))\n",
    "        raise\n",
    "\n"
   ]
  },
  {
   "cell_type": "code",
   "execution_count": null,
   "metadata": {
    "collapsed": true
   },
   "outputs": [],
   "source": [
    "def load_jsondata(data):\n",
    "    outdata = np.full(fill_value=None, shape=(100, 100), dtype=object)\n",
    "\n",
    "    if data is not None:\n",
    "        for d in data:\n",
    "            result = d.get('result', 'null')\n",
    "\n",
    "            # Could leverage geo_utils to do this\n",
    "            col = int((d['x'] - d['chip_x']) / 30)\n",
    "            row = int((d['chip_y'] - d['y']) / 30)\n",
    "\n",
    "            outdata[row][col] = json.loads(result)\n",
    "\n",
    "    return outdata\n",
    "\n"
   ]
  },
  {
   "cell_type": "code",
   "execution_count": null,
   "metadata": {
    "collapsed": true
   },
   "outputs": [],
   "source": [
    "def get_chippath(horiz, vert, chip_x, chip_y):\n",
    "    return os.path.join(JSON_DIR,\n",
    "                        'H{:02d}V{:02d}_{}_{}.json'.format(H, V, chip_x, chip_y))"
   ]
  },
  {
   "cell_type": "code",
   "execution_count": null,
   "metadata": {
    "collapsed": true
   },
   "outputs": [],
   "source": [
    "def check_time_segment(results):\n",
    "\n",
    "    # start_dates = []\n",
    "    # end_dates = []\n",
    "\n",
    "    enforce_start = dt.datetime.toordinal(dt.datetime(1999, 12, 31))\n",
    "    enforce_end = dt.datetime.toordinal(dt.datetime(2001, 1, 1))\n",
    "\n",
    "    for num, result in enumerate(results['change_models']):\n",
    "\n",
    "        print(\"checking result {} of {}\".format(num+1, len(results['change_models'])))\n",
    "        \n",
    "        if result['start_day'] <= enforce_start and result['end_day'] >= enforce_end:\n",
    "\n",
    "            print(\"Found a valid time segment\")\n",
    "\n",
    "            # start_dates.append(result['start_day'])\n",
    "\n",
    "            # end_dates.append(result['end_day'])\n",
    "\n",
    "            return True\n",
    "        \n",
    "        else:\n",
    "            \n",
    "            continue"
   ]
  },
  {
   "cell_type": "code",
   "execution_count": null,
   "metadata": {
    "collapsed": true
   },
   "outputs": [],
   "source": [
    "out_mask[trends_mask][789]"
   ]
  },
  {
   "cell_type": "code",
   "execution_count": null,
   "metadata": {
    "collapsed": true,
    "scrolled": false
   },
   "outputs": [],
   "source": [
    "'''\n",
    "# log.debug('Creating Trends Mask')\n",
    "mask = aux['trends'] > 0\n",
    "# log.debug('Number of pixels {}'.format(np.sum(mask)))\n",
    "        \n",
    "# log.debug('Getting JSON data')\n",
    "jn = get_jsonchip(h, v, chip_x, chip_y).flatten()[mask]\n",
    "'''\n",
    "\n",
    "\n",
    "# So, you could just mask your other mask array the same:\n",
    "\n",
    "out_mask = np.zeros_like(trends.data, dtype=bool).flatten()\n",
    "\n",
    "# trends_mask = trends_arr > 0\n",
    "\n",
    "chip_x = h5v2.CHIP_EXTENTS[chip].x_min\n",
    "chip_y = h5v2.CHIP_EXTENTS[chip].y_max\n",
    "\n",
    "jn = get_jsonchip(H, V, chip_x, chip_y).flatten()[trends_mask.flatten()]\n",
    "\n",
    "eslice = out_mask[trends_mask.flatten()]\n",
    "\n",
    "for index, result in enumerate(jn):\n",
    "\n",
    "    # out_mask[trends_mask.flatten()][index] = check_time_segment(result)\n",
    "        \n",
    "    eslice[index] = check_time_segment(result)\n",
    "        \n",
    "out_mask[trends_mask.flatten()] = eslice\n",
    "\n",
    "\n",
    "        \n",
    "# return trends_arr[out_mask]"
   ]
  },
  {
   "cell_type": "code",
   "execution_count": null,
   "metadata": {
    "collapsed": true
   },
   "outputs": [],
   "source": [
    "np.shape(jn)"
   ]
  },
  {
   "cell_type": "code",
   "execution_count": null,
   "metadata": {
    "collapsed": true
   },
   "outputs": [],
   "source": [
    "out_mask = out_mask.reshape((100,100))"
   ]
  },
  {
   "cell_type": "code",
   "execution_count": null,
   "metadata": {
    "collapsed": true
   },
   "outputs": [],
   "source": [
    "np.any(out_mask)"
   ]
  },
  {
   "cell_type": "code",
   "execution_count": null,
   "metadata": {
    "collapsed": true
   },
   "outputs": [],
   "source": [
    "np.bincount(out_mask.flatten())"
   ]
  },
  {
   "cell_type": "code",
   "execution_count": null,
   "metadata": {
    "collapsed": true
   },
   "outputs": [],
   "source": [
    "np.bincount(trends_mask.flatten())"
   ]
  },
  {
   "cell_type": "code",
   "execution_count": null,
   "metadata": {
    "collapsed": true
   },
   "outputs": [],
   "source": [
    "out_mask = out_mask.astype(dtype=np.uint8, order='C')\n",
    "out_mask[]"
   ]
  }
 ],
 "metadata": {
  "kernelspec": {
   "display_name": "Python 3",
   "language": "python",
   "name": "python3"
  },
  "language_info": {
   "codemirror_mode": {
    "name": "ipython",
    "version": 3
   },
   "file_extension": ".py",
   "mimetype": "text/x-python",
   "name": "python",
   "nbconvert_exporter": "python",
   "pygments_lexer": "ipython3",
   "version": "3.6.2"
  }
 },
 "nbformat": 4,
 "nbformat_minor": 2
}
