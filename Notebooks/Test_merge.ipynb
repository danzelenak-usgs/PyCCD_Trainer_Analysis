{
 "cells": [
  {
   "cell_type": "code",
   "execution_count": 10,
   "metadata": {
    "collapsed": true
   },
   "outputs": [],
   "source": [
    "import glob\n",
    "import pprint\n",
    "import os\n",
    "import subprocess"
   ]
  },
  {
   "cell_type": "code",
   "execution_count": 2,
   "metadata": {
    "collapsed": true
   },
   "outputs": [],
   "source": [
    "WKT = '''PROJCS[\"Albers\",GEOGCS[\"WGS 84\",DATUM[\"WGS_1984\",SPHEROID[\"WGS 84\",6378140,298.2569999999957,AUTHORITY[\"EPSG\",\n",
    "\"7030\"]],AUTHORITY[\"EPSG\",\"6326\"]],PRIMEM[\"Greenwich\",0],UNIT[\"degree\",0.0174532925199433],AUTHORITY[\"EPSG\",\"4326\"]],\n",
    "PROJECTION[\"Albers_Conic_Equal_Area\"],PARAMETER[\"standard_parallel_1\",29.5],PARAMETER[\"standard_parallel_2\",45.5],\n",
    "PARAMETER[\"latitude_of_center\",23],PARAMETER[\"longitude_of_center\",-96],PARAMETER[\"false_easting\",0],\n",
    "PARAMETER[\"false_northing\",0],UNIT[\"metre\",1,AUTHORITY[\"EPSG\",\"9001\"]]]'''"
   ]
  },
  {
   "cell_type": "code",
   "execution_count": 3,
   "metadata": {
    "collapsed": true
   },
   "outputs": [],
   "source": [
    "indir = r\"Z:\\dzelenak\\training\\h01v08\\chips\""
   ]
  },
  {
   "cell_type": "code",
   "execution_count": 5,
   "metadata": {
    "collapsed": true
   },
   "outputs": [],
   "source": [
    "infiles = glob.glob(indir + os.sep + \"*.tif\")"
   ]
  },
  {
   "cell_type": "code",
   "execution_count": 7,
   "metadata": {},
   "outputs": [
    {
     "name": "stdout",
     "output_type": "stream",
     "text": [
      "['Z:\\\\dzelenak\\\\training\\\\h01v08\\\\chips\\\\mask_241.tif',\n",
      " 'Z:\\\\dzelenak\\\\training\\\\h01v08\\\\chips\\\\mask_242.tif',\n",
      " 'Z:\\\\dzelenak\\\\training\\\\h01v08\\\\chips\\\\mask_243.tif',\n",
      " 'Z:\\\\dzelenak\\\\training\\\\h01v08\\\\chips\\\\mask_244.tif',\n",
      " 'Z:\\\\dzelenak\\\\training\\\\h01v08\\\\chips\\\\mask_291.tif',\n",
      " 'Z:\\\\dzelenak\\\\training\\\\h01v08\\\\chips\\\\mask_292.tif',\n",
      " 'Z:\\\\dzelenak\\\\training\\\\h01v08\\\\chips\\\\mask_293.tif',\n",
      " 'Z:\\\\dzelenak\\\\training\\\\h01v08\\\\chips\\\\mask_294.tif',\n",
      " 'Z:\\\\dzelenak\\\\training\\\\h01v08\\\\chips\\\\mask_341.tif',\n",
      " 'Z:\\\\dzelenak\\\\training\\\\h01v08\\\\chips\\\\mask_342.tif',\n",
      " 'Z:\\\\dzelenak\\\\training\\\\h01v08\\\\chips\\\\mask_343.tif',\n",
      " 'Z:\\\\dzelenak\\\\training\\\\h01v08\\\\chips\\\\mask_344.tif',\n",
      " 'Z:\\\\dzelenak\\\\training\\\\h01v08\\\\chips\\\\mask_376.tif',\n",
      " 'Z:\\\\dzelenak\\\\training\\\\h01v08\\\\chips\\\\mask_377.tif',\n",
      " 'Z:\\\\dzelenak\\\\training\\\\h01v08\\\\chips\\\\mask_378.tif',\n",
      " 'Z:\\\\dzelenak\\\\training\\\\h01v08\\\\chips\\\\mask_379.tif',\n",
      " 'Z:\\\\dzelenak\\\\training\\\\h01v08\\\\chips\\\\mask_380.tif',\n",
      " 'Z:\\\\dzelenak\\\\training\\\\h01v08\\\\chips\\\\mask_381.tif',\n",
      " 'Z:\\\\dzelenak\\\\training\\\\h01v08\\\\chips\\\\mask_391.tif',\n",
      " 'Z:\\\\dzelenak\\\\training\\\\h01v08\\\\chips\\\\mask_392.tif',\n",
      " 'Z:\\\\dzelenak\\\\training\\\\h01v08\\\\chips\\\\mask_393.tif',\n",
      " 'Z:\\\\dzelenak\\\\training\\\\h01v08\\\\chips\\\\mask_394.tif',\n",
      " 'Z:\\\\dzelenak\\\\training\\\\h01v08\\\\chips\\\\mask_426.tif',\n",
      " 'Z:\\\\dzelenak\\\\training\\\\h01v08\\\\chips\\\\mask_427.tif',\n",
      " 'Z:\\\\dzelenak\\\\training\\\\h01v08\\\\chips\\\\mask_428.tif',\n",
      " 'Z:\\\\dzelenak\\\\training\\\\h01v08\\\\chips\\\\mask_429.tif',\n",
      " 'Z:\\\\dzelenak\\\\training\\\\h01v08\\\\chips\\\\mask_430.tif',\n",
      " 'Z:\\\\dzelenak\\\\training\\\\h01v08\\\\chips\\\\mask_431.tif',\n",
      " 'Z:\\\\dzelenak\\\\training\\\\h01v08\\\\chips\\\\mask_476.tif',\n",
      " 'Z:\\\\dzelenak\\\\training\\\\h01v08\\\\chips\\\\mask_477.tif',\n",
      " 'Z:\\\\dzelenak\\\\training\\\\h01v08\\\\chips\\\\mask_478.tif',\n",
      " 'Z:\\\\dzelenak\\\\training\\\\h01v08\\\\chips\\\\mask_479.tif',\n",
      " 'Z:\\\\dzelenak\\\\training\\\\h01v08\\\\chips\\\\mask_480.tif',\n",
      " 'Z:\\\\dzelenak\\\\training\\\\h01v08\\\\chips\\\\mask_481.tif',\n",
      " 'Z:\\\\dzelenak\\\\training\\\\h01v08\\\\chips\\\\mask_527.tif',\n",
      " 'Z:\\\\dzelenak\\\\training\\\\h01v08\\\\chips\\\\mask_528.tif',\n",
      " 'Z:\\\\dzelenak\\\\training\\\\h01v08\\\\chips\\\\mask_529.tif',\n",
      " 'Z:\\\\dzelenak\\\\training\\\\h01v08\\\\chips\\\\mask_530.tif',\n",
      " 'Z:\\\\dzelenak\\\\training\\\\h01v08\\\\chips\\\\mask_531.tif',\n",
      " 'Z:\\\\dzelenak\\\\training\\\\h01v08\\\\chips\\\\mask_532.tif',\n",
      " 'Z:\\\\dzelenak\\\\training\\\\h01v08\\\\chips\\\\mask_533.tif',\n",
      " 'Z:\\\\dzelenak\\\\training\\\\h01v08\\\\chips\\\\mask_534.tif',\n",
      " 'Z:\\\\dzelenak\\\\training\\\\h01v08\\\\chips\\\\mask_581.tif',\n",
      " 'Z:\\\\dzelenak\\\\training\\\\h01v08\\\\chips\\\\mask_582.tif',\n",
      " 'Z:\\\\dzelenak\\\\training\\\\h01v08\\\\chips\\\\mask_583.tif',\n",
      " 'Z:\\\\dzelenak\\\\training\\\\h01v08\\\\chips\\\\mask_584.tif',\n",
      " 'Z:\\\\dzelenak\\\\training\\\\h01v08\\\\chips\\\\mask_631.tif',\n",
      " 'Z:\\\\dzelenak\\\\training\\\\h01v08\\\\chips\\\\mask_632.tif',\n",
      " 'Z:\\\\dzelenak\\\\training\\\\h01v08\\\\chips\\\\mask_633.tif',\n",
      " 'Z:\\\\dzelenak\\\\training\\\\h01v08\\\\chips\\\\mask_634.tif',\n",
      " 'Z:\\\\dzelenak\\\\training\\\\h01v08\\\\chips\\\\mask_681.tif',\n",
      " 'Z:\\\\dzelenak\\\\training\\\\h01v08\\\\chips\\\\mask_682.tif',\n",
      " 'Z:\\\\dzelenak\\\\training\\\\h01v08\\\\chips\\\\mask_683.tif',\n",
      " 'Z:\\\\dzelenak\\\\training\\\\h01v08\\\\chips\\\\mask_684.tif',\n",
      " 'Z:\\\\dzelenak\\\\training\\\\h01v08\\\\chips\\\\mask_731.tif',\n",
      " 'Z:\\\\dzelenak\\\\training\\\\h01v08\\\\chips\\\\mask_732.tif',\n",
      " 'Z:\\\\dzelenak\\\\training\\\\h01v08\\\\chips\\\\mask_733.tif',\n",
      " 'Z:\\\\dzelenak\\\\training\\\\h01v08\\\\chips\\\\mask_734.tif',\n",
      " 'Z:\\\\dzelenak\\\\training\\\\h01v08\\\\chips\\\\mask_2044.tif',\n",
      " 'Z:\\\\dzelenak\\\\training\\\\h01v08\\\\chips\\\\mask_2045.tif',\n",
      " 'Z:\\\\dzelenak\\\\training\\\\h01v08\\\\chips\\\\mask_2046.tif',\n",
      " 'Z:\\\\dzelenak\\\\training\\\\h01v08\\\\chips\\\\mask_2047.tif',\n",
      " 'Z:\\\\dzelenak\\\\training\\\\h01v08\\\\chips\\\\mask_2048.tif',\n",
      " 'Z:\\\\dzelenak\\\\training\\\\h01v08\\\\chips\\\\mask_2049.tif',\n",
      " 'Z:\\\\dzelenak\\\\training\\\\h01v08\\\\chips\\\\mask_2094.tif',\n",
      " 'Z:\\\\dzelenak\\\\training\\\\h01v08\\\\chips\\\\mask_2095.tif',\n",
      " 'Z:\\\\dzelenak\\\\training\\\\h01v08\\\\chips\\\\mask_2096.tif',\n",
      " 'Z:\\\\dzelenak\\\\training\\\\h01v08\\\\chips\\\\mask_2097.tif',\n",
      " 'Z:\\\\dzelenak\\\\training\\\\h01v08\\\\chips\\\\mask_2098.tif',\n",
      " 'Z:\\\\dzelenak\\\\training\\\\h01v08\\\\chips\\\\mask_2099.tif',\n",
      " 'Z:\\\\dzelenak\\\\training\\\\h01v08\\\\chips\\\\mask_2144.tif',\n",
      " 'Z:\\\\dzelenak\\\\training\\\\h01v08\\\\chips\\\\mask_2145.tif',\n",
      " 'Z:\\\\dzelenak\\\\training\\\\h01v08\\\\chips\\\\mask_2146.tif',\n",
      " 'Z:\\\\dzelenak\\\\training\\\\h01v08\\\\chips\\\\mask_2147.tif',\n",
      " 'Z:\\\\dzelenak\\\\training\\\\h01v08\\\\chips\\\\mask_2148.tif',\n",
      " 'Z:\\\\dzelenak\\\\training\\\\h01v08\\\\chips\\\\mask_2149.tif',\n",
      " 'Z:\\\\dzelenak\\\\training\\\\h01v08\\\\chips\\\\mask_2194.tif',\n",
      " 'Z:\\\\dzelenak\\\\training\\\\h01v08\\\\chips\\\\mask_2195.tif',\n",
      " 'Z:\\\\dzelenak\\\\training\\\\h01v08\\\\chips\\\\mask_2196.tif',\n",
      " 'Z:\\\\dzelenak\\\\training\\\\h01v08\\\\chips\\\\mask_2197.tif',\n",
      " 'Z:\\\\dzelenak\\\\training\\\\h01v08\\\\chips\\\\mask_2198.tif',\n",
      " 'Z:\\\\dzelenak\\\\training\\\\h01v08\\\\chips\\\\mask_2244.tif',\n",
      " 'Z:\\\\dzelenak\\\\training\\\\h01v08\\\\chips\\\\mask_2245.tif',\n",
      " 'Z:\\\\dzelenak\\\\training\\\\h01v08\\\\chips\\\\mask_2246.tif',\n",
      " 'Z:\\\\dzelenak\\\\training\\\\h01v08\\\\chips\\\\mask_2247.tif',\n",
      " 'Z:\\\\dzelenak\\\\training\\\\h01v08\\\\chips\\\\mask_2248.tif',\n",
      " 'Z:\\\\dzelenak\\\\training\\\\h01v08\\\\chips\\\\mask_2392.tif',\n",
      " 'Z:\\\\dzelenak\\\\training\\\\h01v08\\\\chips\\\\mask_2393.tif',\n",
      " 'Z:\\\\dzelenak\\\\training\\\\h01v08\\\\chips\\\\mask_2394.tif',\n",
      " 'Z:\\\\dzelenak\\\\training\\\\h01v08\\\\chips\\\\mask_2395.tif',\n",
      " 'Z:\\\\dzelenak\\\\training\\\\h01v08\\\\chips\\\\mask_2396.tif',\n",
      " 'Z:\\\\dzelenak\\\\training\\\\h01v08\\\\chips\\\\mask_2397.tif',\n",
      " 'Z:\\\\dzelenak\\\\training\\\\h01v08\\\\chips\\\\mask_2443.tif',\n",
      " 'Z:\\\\dzelenak\\\\training\\\\h01v08\\\\chips\\\\mask_2444.tif',\n",
      " 'Z:\\\\dzelenak\\\\training\\\\h01v08\\\\chips\\\\mask_2445.tif',\n",
      " 'Z:\\\\dzelenak\\\\training\\\\h01v08\\\\chips\\\\mask_2446.tif',\n",
      " 'Z:\\\\dzelenak\\\\training\\\\h01v08\\\\chips\\\\mask_2447.tif',\n",
      " 'Z:\\\\dzelenak\\\\training\\\\h01v08\\\\chips\\\\mask_2494.tif',\n",
      " 'Z:\\\\dzelenak\\\\training\\\\h01v08\\\\chips\\\\mask_2495.tif',\n",
      " 'Z:\\\\dzelenak\\\\training\\\\h01v08\\\\chips\\\\mask_2496.tif',\n",
      " 'Z:\\\\dzelenak\\\\training\\\\h01v08\\\\chips\\\\mask_2497.tif']\n"
     ]
    }
   ],
   "source": [
    "pprint.pprint(infiles)"
   ]
  },
  {
   "cell_type": "code",
   "execution_count": 8,
   "metadata": {
    "collapsed": true
   },
   "outputs": [],
   "source": [
    "outfile = indir + os.sep + \"trends_mask.tif\""
   ]
  },
  {
   "cell_type": "code",
   "execution_count": 9,
   "metadata": {
    "collapsed": true
   },
   "outputs": [],
   "source": [
    "merge = f\"gdal_merge -o {outfile} -of GTiff -ps 30 30 -v {\" \".join(infiles)}\""
   ]
  },
  {
   "cell_type": "code",
   "execution_count": 11,
   "metadata": {},
   "outputs": [
    {
     "data": {
      "text/plain": [
       "1"
      ]
     },
     "execution_count": 11,
     "metadata": {},
     "output_type": "execute_result"
    }
   ],
   "source": [
    "subprocess.call(merge, shell=True)"
   ]
  },
  {
   "cell_type": "code",
   "execution_count": 17,
   "metadata": {
    "collapsed": true
   },
   "outputs": [],
   "source": [
    "infilesstr = \" \".join(infiles)"
   ]
  },
  {
   "cell_type": "code",
   "execution_count": 18,
   "metadata": {},
   "outputs": [
    {
     "data": {
      "text/plain": [
       "'Z:\\\\dzelenak\\\\training\\\\h01v08\\\\chips\\\\mask_241.tif Z:\\\\dzelenak\\\\training\\\\h01v08\\\\chips\\\\mask_242.tif Z:\\\\dzelenak\\\\training\\\\h01v08\\\\chips\\\\mask_243.tif Z:\\\\dzelenak\\\\training\\\\h01v08\\\\chips\\\\mask_244.tif Z:\\\\dzelenak\\\\training\\\\h01v08\\\\chips\\\\mask_291.tif Z:\\\\dzelenak\\\\training\\\\h01v08\\\\chips\\\\mask_292.tif Z:\\\\dzelenak\\\\training\\\\h01v08\\\\chips\\\\mask_293.tif Z:\\\\dzelenak\\\\training\\\\h01v08\\\\chips\\\\mask_294.tif Z:\\\\dzelenak\\\\training\\\\h01v08\\\\chips\\\\mask_341.tif Z:\\\\dzelenak\\\\training\\\\h01v08\\\\chips\\\\mask_342.tif Z:\\\\dzelenak\\\\training\\\\h01v08\\\\chips\\\\mask_343.tif Z:\\\\dzelenak\\\\training\\\\h01v08\\\\chips\\\\mask_344.tif Z:\\\\dzelenak\\\\training\\\\h01v08\\\\chips\\\\mask_376.tif Z:\\\\dzelenak\\\\training\\\\h01v08\\\\chips\\\\mask_377.tif Z:\\\\dzelenak\\\\training\\\\h01v08\\\\chips\\\\mask_378.tif Z:\\\\dzelenak\\\\training\\\\h01v08\\\\chips\\\\mask_379.tif Z:\\\\dzelenak\\\\training\\\\h01v08\\\\chips\\\\mask_380.tif Z:\\\\dzelenak\\\\training\\\\h01v08\\\\chips\\\\mask_381.tif Z:\\\\dzelenak\\\\training\\\\h01v08\\\\chips\\\\mask_391.tif Z:\\\\dzelenak\\\\training\\\\h01v08\\\\chips\\\\mask_392.tif Z:\\\\dzelenak\\\\training\\\\h01v08\\\\chips\\\\mask_393.tif Z:\\\\dzelenak\\\\training\\\\h01v08\\\\chips\\\\mask_394.tif Z:\\\\dzelenak\\\\training\\\\h01v08\\\\chips\\\\mask_426.tif Z:\\\\dzelenak\\\\training\\\\h01v08\\\\chips\\\\mask_427.tif Z:\\\\dzelenak\\\\training\\\\h01v08\\\\chips\\\\mask_428.tif Z:\\\\dzelenak\\\\training\\\\h01v08\\\\chips\\\\mask_429.tif Z:\\\\dzelenak\\\\training\\\\h01v08\\\\chips\\\\mask_430.tif Z:\\\\dzelenak\\\\training\\\\h01v08\\\\chips\\\\mask_431.tif Z:\\\\dzelenak\\\\training\\\\h01v08\\\\chips\\\\mask_476.tif Z:\\\\dzelenak\\\\training\\\\h01v08\\\\chips\\\\mask_477.tif Z:\\\\dzelenak\\\\training\\\\h01v08\\\\chips\\\\mask_478.tif Z:\\\\dzelenak\\\\training\\\\h01v08\\\\chips\\\\mask_479.tif Z:\\\\dzelenak\\\\training\\\\h01v08\\\\chips\\\\mask_480.tif Z:\\\\dzelenak\\\\training\\\\h01v08\\\\chips\\\\mask_481.tif Z:\\\\dzelenak\\\\training\\\\h01v08\\\\chips\\\\mask_527.tif Z:\\\\dzelenak\\\\training\\\\h01v08\\\\chips\\\\mask_528.tif Z:\\\\dzelenak\\\\training\\\\h01v08\\\\chips\\\\mask_529.tif Z:\\\\dzelenak\\\\training\\\\h01v08\\\\chips\\\\mask_530.tif Z:\\\\dzelenak\\\\training\\\\h01v08\\\\chips\\\\mask_531.tif Z:\\\\dzelenak\\\\training\\\\h01v08\\\\chips\\\\mask_532.tif Z:\\\\dzelenak\\\\training\\\\h01v08\\\\chips\\\\mask_533.tif Z:\\\\dzelenak\\\\training\\\\h01v08\\\\chips\\\\mask_534.tif Z:\\\\dzelenak\\\\training\\\\h01v08\\\\chips\\\\mask_581.tif Z:\\\\dzelenak\\\\training\\\\h01v08\\\\chips\\\\mask_582.tif Z:\\\\dzelenak\\\\training\\\\h01v08\\\\chips\\\\mask_583.tif Z:\\\\dzelenak\\\\training\\\\h01v08\\\\chips\\\\mask_584.tif Z:\\\\dzelenak\\\\training\\\\h01v08\\\\chips\\\\mask_631.tif Z:\\\\dzelenak\\\\training\\\\h01v08\\\\chips\\\\mask_632.tif Z:\\\\dzelenak\\\\training\\\\h01v08\\\\chips\\\\mask_633.tif Z:\\\\dzelenak\\\\training\\\\h01v08\\\\chips\\\\mask_634.tif Z:\\\\dzelenak\\\\training\\\\h01v08\\\\chips\\\\mask_681.tif Z:\\\\dzelenak\\\\training\\\\h01v08\\\\chips\\\\mask_682.tif Z:\\\\dzelenak\\\\training\\\\h01v08\\\\chips\\\\mask_683.tif Z:\\\\dzelenak\\\\training\\\\h01v08\\\\chips\\\\mask_684.tif Z:\\\\dzelenak\\\\training\\\\h01v08\\\\chips\\\\mask_731.tif Z:\\\\dzelenak\\\\training\\\\h01v08\\\\chips\\\\mask_732.tif Z:\\\\dzelenak\\\\training\\\\h01v08\\\\chips\\\\mask_733.tif Z:\\\\dzelenak\\\\training\\\\h01v08\\\\chips\\\\mask_734.tif Z:\\\\dzelenak\\\\training\\\\h01v08\\\\chips\\\\mask_2044.tif Z:\\\\dzelenak\\\\training\\\\h01v08\\\\chips\\\\mask_2045.tif Z:\\\\dzelenak\\\\training\\\\h01v08\\\\chips\\\\mask_2046.tif Z:\\\\dzelenak\\\\training\\\\h01v08\\\\chips\\\\mask_2047.tif Z:\\\\dzelenak\\\\training\\\\h01v08\\\\chips\\\\mask_2048.tif Z:\\\\dzelenak\\\\training\\\\h01v08\\\\chips\\\\mask_2049.tif Z:\\\\dzelenak\\\\training\\\\h01v08\\\\chips\\\\mask_2094.tif Z:\\\\dzelenak\\\\training\\\\h01v08\\\\chips\\\\mask_2095.tif Z:\\\\dzelenak\\\\training\\\\h01v08\\\\chips\\\\mask_2096.tif Z:\\\\dzelenak\\\\training\\\\h01v08\\\\chips\\\\mask_2097.tif Z:\\\\dzelenak\\\\training\\\\h01v08\\\\chips\\\\mask_2098.tif Z:\\\\dzelenak\\\\training\\\\h01v08\\\\chips\\\\mask_2099.tif Z:\\\\dzelenak\\\\training\\\\h01v08\\\\chips\\\\mask_2144.tif Z:\\\\dzelenak\\\\training\\\\h01v08\\\\chips\\\\mask_2145.tif Z:\\\\dzelenak\\\\training\\\\h01v08\\\\chips\\\\mask_2146.tif Z:\\\\dzelenak\\\\training\\\\h01v08\\\\chips\\\\mask_2147.tif Z:\\\\dzelenak\\\\training\\\\h01v08\\\\chips\\\\mask_2148.tif Z:\\\\dzelenak\\\\training\\\\h01v08\\\\chips\\\\mask_2149.tif Z:\\\\dzelenak\\\\training\\\\h01v08\\\\chips\\\\mask_2194.tif Z:\\\\dzelenak\\\\training\\\\h01v08\\\\chips\\\\mask_2195.tif Z:\\\\dzelenak\\\\training\\\\h01v08\\\\chips\\\\mask_2196.tif Z:\\\\dzelenak\\\\training\\\\h01v08\\\\chips\\\\mask_2197.tif Z:\\\\dzelenak\\\\training\\\\h01v08\\\\chips\\\\mask_2198.tif Z:\\\\dzelenak\\\\training\\\\h01v08\\\\chips\\\\mask_2244.tif Z:\\\\dzelenak\\\\training\\\\h01v08\\\\chips\\\\mask_2245.tif Z:\\\\dzelenak\\\\training\\\\h01v08\\\\chips\\\\mask_2246.tif Z:\\\\dzelenak\\\\training\\\\h01v08\\\\chips\\\\mask_2247.tif Z:\\\\dzelenak\\\\training\\\\h01v08\\\\chips\\\\mask_2248.tif Z:\\\\dzelenak\\\\training\\\\h01v08\\\\chips\\\\mask_2392.tif Z:\\\\dzelenak\\\\training\\\\h01v08\\\\chips\\\\mask_2393.tif Z:\\\\dzelenak\\\\training\\\\h01v08\\\\chips\\\\mask_2394.tif Z:\\\\dzelenak\\\\training\\\\h01v08\\\\chips\\\\mask_2395.tif Z:\\\\dzelenak\\\\training\\\\h01v08\\\\chips\\\\mask_2396.tif Z:\\\\dzelenak\\\\training\\\\h01v08\\\\chips\\\\mask_2397.tif Z:\\\\dzelenak\\\\training\\\\h01v08\\\\chips\\\\mask_2443.tif Z:\\\\dzelenak\\\\training\\\\h01v08\\\\chips\\\\mask_2444.tif Z:\\\\dzelenak\\\\training\\\\h01v08\\\\chips\\\\mask_2445.tif Z:\\\\dzelenak\\\\training\\\\h01v08\\\\chips\\\\mask_2446.tif Z:\\\\dzelenak\\\\training\\\\h01v08\\\\chips\\\\mask_2447.tif Z:\\\\dzelenak\\\\training\\\\h01v08\\\\chips\\\\mask_2494.tif Z:\\\\dzelenak\\\\training\\\\h01v08\\\\chips\\\\mask_2495.tif Z:\\\\dzelenak\\\\training\\\\h01v08\\\\chips\\\\mask_2496.tif Z:\\\\dzelenak\\\\training\\\\h01v08\\\\chips\\\\mask_2497.tif'"
      ]
     },
     "execution_count": 18,
     "metadata": {},
     "output_type": "execute_result"
    }
   ],
   "source": [
    "infilesstr"
   ]
  },
  {
   "cell_type": "code",
   "execution_count": null,
   "metadata": {
    "collapsed": true
   },
   "outputs": [],
   "source": []
  }
 ],
 "metadata": {
  "kernelspec": {
   "display_name": "Python 3",
   "language": "python",
   "name": "python3"
  },
  "language_info": {
   "codemirror_mode": {
    "name": "ipython",
    "version": 3
   },
   "file_extension": ".py",
   "mimetype": "text/x-python",
   "name": "python",
   "nbconvert_exporter": "python",
   "pygments_lexer": "ipython3",
   "version": "3.6.2"
  }
 },
 "nbformat": 4,
 "nbformat_minor": 2
}
